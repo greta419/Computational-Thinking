{
  "nbformat": 4,
  "nbformat_minor": 0,
  "metadata": {
    "colab": {
      "name": "week12作業.ipynb",
      "provenance": [],
      "collapsed_sections": [],
      "authorship_tag": "ABX9TyPFJ07Yp/X1k/Pqk8bl0R86",
      "include_colab_link": true
    },
    "kernelspec": {
      "name": "python3",
      "display_name": "Python 3"
    }
  },
  "cells": [
    {
      "cell_type": "markdown",
      "metadata": {
        "id": "view-in-github",
        "colab_type": "text"
      },
      "source": [
        "<a href=\"https://colab.research.google.com/github/greta419/Computational-Thinking/blob/master/week12%E4%BD%9C%E6%A5%AD.ipynb\" target=\"_parent\"><img src=\"https://colab.research.google.com/assets/colab-badge.svg\" alt=\"Open In Colab\"/></a>"
      ]
    },
    {
      "cell_type": "code",
      "metadata": {
        "colab": {
          "base_uri": "https://localhost:8080/"
        },
        "id": "-pTPQaBgxa9w",
        "outputId": "13468b34-c343-4a92-e485-99a984baf8d2"
      },
      "source": [
        "專題名稱=\"機器人\"\n",
        "成員姓名=[\"楊雅婷\",\"廖于恩\",\"高明倫\",\"洪嫚君\",\"楊凱恩\",\"蘇文雅\",\"鍾乃真\",\"ㄚㄚㄚ\"]\n",
        "分工內容=[\"22\",\"3\",\"66\",\"6\",\"56\",\"58\",\"25\",\"58\"]\n",
        "分工比重=[\"15\",\"10\",\"15\",\"15\",\"10\",\"10\",\"15\",\"10\"]\n",
        "成員學號=[\"91\",\"25\",\"3\",\"31\",\"65\",\"58\",\"54\",\"13\"]\n",
        "final_project=list((成員姓名,分工內容,分工比重,成員學號))\n",
        "print(final_project)\n",
        "['楊雅婷','22','15','91']\n",
        "print(type(final_project))\n"
      ],
      "execution_count": 3,
      "outputs": [
        {
          "output_type": "stream",
          "text": [
            "[['楊雅婷', '廖于恩', '高明倫', '洪嫚君', '楊凱恩', '蘇文雅', '鍾乃真', 'ㄚㄚㄚ'], ['22', '3', '66', '6', '56', '58', '25', '58'], ['15', '10', '15', '15', '10', '10', '15', '10'], ['91', '25', '3', '31', '65', '58', '54', '13']]\n",
            "<class 'list'>\n"
          ],
          "name": "stdout"
        }
      ]
    },
    {
      "cell_type": "code",
      "metadata": {
        "colab": {
          "base_uri": "https://localhost:8080/"
        },
        "id": "uHkM_5VXHGOV",
        "outputId": "51916fa9-e2a5-4a72-f9d8-01b2d69d5684"
      },
      "source": [
        "專題名稱=\"機器人\"\n",
        "成員姓名=[\"楊雅婷\",\"廖于恩\",\"高明倫\",\"洪嫚君\",\"楊凱恩\",\"蘇文雅\",\"鍾乃真\",\"ㄚㄚㄚ\"]\n",
        "分工內容=[\"22\",\"3\",\"66\",\"6\",\"56\",\"58\",\"25\",\"58\"]\n",
        "分工比重=[\"15\",\"10\",\"15\",\"15\",\"10\",\"10\",\"15\",\"10\"]\n",
        "成員學號=[\"91\",\"25\",\"3\",\"31\",\"65\",\"58\",\"54\",\"13\"]\n",
        "final_project=list((成員姓名,分工內容,分工比重,成員學號))\n",
        "print(final_project)\n",
        "['楊雅婷','22','15','91']\n"
      ],
      "execution_count": 5,
      "outputs": [
        {
          "output_type": "stream",
          "text": [
            "[['楊雅婷', '廖于恩', '高明倫', '洪嫚君', '楊凱恩', '蘇文雅', '鍾乃真', 'ㄚㄚㄚ'], ['22', '3', '66', '6', '56', '58', '25', '58'], ['15', '10', '15', '15', '10', '10', '15', '10'], ['91', '25', '3', '31', '65', '58', '54', '13']]\n"
          ],
          "name": "stdout"
        },
        {
          "output_type": "execute_result",
          "data": {
            "text/plain": [
              "['楊雅婷', '22', '15', '91']"
            ]
          },
          "metadata": {
            "tags": []
          },
          "execution_count": 5
        }
      ]
    }
  ]
}