{
  "nbformat": 4,
  "nbformat_minor": 0,
  "metadata": {
    "colab": {
      "name": "week10-2.ipynb",
      "provenance": [],
      "authorship_tag": "ABX9TyPOcmy5M6KF75OsUJzu+KSj",
      "include_colab_link": true
    },
    "kernelspec": {
      "name": "python3",
      "display_name": "Python 3"
    }
  },
  "cells": [
    {
      "cell_type": "markdown",
      "metadata": {
        "id": "view-in-github",
        "colab_type": "text"
      },
      "source": [
        "<a href=\"https://colab.research.google.com/github/greta419/Computational-Thinking/blob/master/week10_2.ipynb\" target=\"_parent\"><img src=\"https://colab.research.google.com/assets/colab-badge.svg\" alt=\"Open In Colab\"/></a>"
      ]
    },
    {
      "cell_type": "code",
      "metadata": {
        "colab": {
          "base_uri": "https://localhost:8080/"
        },
        "id": "8LiIefW9efpl",
        "outputId": "88da26db-58ca-4ad7-8203-87b04b607690"
      },
      "source": [
        "# Input Date\n",
        "time = 123\n",
        "\n",
        "# process\n",
        "hour = time//60 # 商數\n",
        "minute = time%60 # 餘數\n",
        "\n",
        "# output\n",
        "\n",
        "print(time,\"是\",hour,\"小時\",minute,\"分鐘\")\n",
        "\n",
        "## process\n",
        "\n",
        "hour1=int(time/60)# 除法與整數\n",
        "minute1=((time/60)-hour1)*60\n",
        "import math\n",
        "ronnd=(minute1)\n",
        "\n",
        "print(time,\"是\",hour,\"小時\",minute,\"分鐘\")"
      ],
      "execution_count": 3,
      "outputs": [
        {
          "output_type": "stream",
          "text": [
            "123 是 2 小時 3 分鐘\n",
            "123 是 2 小時 3 分鐘\n"
          ],
          "name": "stdout"
        }
      ]
    }
  ]
}