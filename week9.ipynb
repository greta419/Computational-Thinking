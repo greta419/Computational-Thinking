{
  "nbformat": 4,
  "nbformat_minor": 0,
  "metadata": {
    "colab": {
      "name": "week9.ipynb",
      "provenance": [],
      "authorship_tag": "ABX9TyOLBHWk4PqXf8oAgcVwB2Uq",
      "include_colab_link": true
    },
    "kernelspec": {
      "name": "python3",
      "display_name": "Python 3"
    }
  },
  "cells": [
    {
      "cell_type": "markdown",
      "metadata": {
        "id": "view-in-github",
        "colab_type": "text"
      },
      "source": [
        "<a href=\"https://colab.research.google.com/github/greta419/Computational-Thinking/blob/master/week9.ipynb\" target=\"_parent\"><img src=\"https://colab.research.google.com/assets/colab-badge.svg\" alt=\"Open In Colab\"/></a>"
      ]
    },
    {
      "cell_type": "code",
      "metadata": {
        "id": "9TMc7aqagq3g",
        "outputId": "db21add8-9a68-451b-9b03-008c667afe6d",
        "colab": {
          "base_uri": "https://localhost:8080/"
        }
      },
      "source": [
        "x = int(input(\"請輸入上衣數量\"))\n",
        "y = int(input(\"請輸入褲子數量\"))\n",
        "z = int(input(\"請輸入背心數量\"))\n",
        "\n",
        "total=300*x+350*y+400*z\n",
        "\n",
        "print(\"訂購服裝的總金額\",total)"
      ],
      "execution_count": 9,
      "outputs": [
        {
          "output_type": "stream",
          "text": [
            "請輸入上衣數量6\n",
            "請輸入褲子數量6\n",
            "請輸入背心數量6\n",
            "訂購服裝的總金額 6300\n"
          ],
          "name": "stdout"
        }
      ]
    },
    {
      "cell_type": "code",
      "metadata": {
        "id": "8N9DOBAEgvJP",
        "outputId": "3943102a-524b-4217-e406-2594d3fa0589",
        "colab": {
          "base_uri": "https://localhost:8080/"
        }
      },
      "source": [
        "cans = int(input(\"請施入購買的飲料罐數?\"))\n",
        "total = (cans//12)*200 + (cans%12)*20\n",
        "print (\"需花費\",total)"
      ],
      "execution_count": 2,
      "outputs": [
        {
          "output_type": "stream",
          "text": [
            "請施入購買的飲料罐數?100\n",
            "需花費 1680\n"
          ],
          "name": "stdout"
        }
      ]
    },
    {
      "cell_type": "code",
      "metadata": {
        "id": "RjdCte90h0kh",
        "outputId": "8c422099-5a66-4ebe-e76e-3487296c6b1b",
        "colab": {
          "base_uri": "https://localhost:8080/"
        }
      },
      "source": [
        "first = int(input(\"請輸入第一次期中考成績?  \"))\n",
        "second = int(input(\"請輸入第二次期中考成績?  \"))\n",
        "final = int(input(\"請輸入期末考成績?  \"))\n",
        "total = first + second + final \n",
        "average = total / 3\n",
        "print(\"總分為\", total, \"平均為\", average)"
      ],
      "execution_count": 4,
      "outputs": [
        {
          "output_type": "stream",
          "text": [
            "請輸入第一次期中考成績?  90\n",
            "請輸入第二次期中考成績?  80\n",
            "請輸入期末考成績?  10\n",
            "總分為 180 平均為 60.0\n"
          ],
          "name": "stdout"
        }
      ]
    }
  ]
}