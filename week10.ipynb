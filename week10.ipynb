{
  "nbformat": 4,
  "nbformat_minor": 0,
  "metadata": {
    "colab": {
      "name": "week10.ipynb",
      "provenance": [],
      "collapsed_sections": [],
      "authorship_tag": "ABX9TyMJPo8PqowfIKOsNaYqTN0G",
      "include_colab_link": true
    },
    "kernelspec": {
      "name": "python3",
      "display_name": "Python 3"
    }
  },
  "cells": [
    {
      "cell_type": "markdown",
      "metadata": {
        "id": "view-in-github",
        "colab_type": "text"
      },
      "source": [
        "<a href=\"https://colab.research.google.com/github/greta419/Computational-Thinking/blob/master/week10.ipynb\" target=\"_parent\"><img src=\"https://colab.research.google.com/assets/colab-badge.svg\" alt=\"Open In Colab\"/></a>"
      ]
    },
    {
      "cell_type": "code",
      "metadata": {
        "colab": {
          "base_uri": "https://localhost:8080/"
        },
        "id": "QHl06UtnXneN",
        "outputId": "07ebd300-cb8f-4e0e-a682-3c34c3d60039"
      },
      "source": [
        "movie_title=\"Oblivion\"\n",
        "release_year=\"2013\"\n",
        "diector=\"Joseph Kosinski\"\n",
        "writers=\"Michael Arndt\"\n",
        "stars=\"Tom Cruise\"\n",
        "\n",
        "print(\"電腦英文名稱\",movie_title)\n",
        "print(\"上映時間\",release_year)\n",
        "print(\"導演名稱\",diector)\n",
        "print(\"編劇\",writers)\n",
        "print(\"主演\",stars)\n"
      ],
      "execution_count": 6,
      "outputs": [
        {
          "output_type": "stream",
          "text": [
            "電腦英文名稱 Oblivion\n",
            "上映時間 2013\n",
            "導演名稱 Joseph Kosinski\n",
            "編劇 Michael Arndt\n",
            "主演 Tom Cruise\n"
          ],
          "name": "stdout"
        }
      ]
    }
  ]
}