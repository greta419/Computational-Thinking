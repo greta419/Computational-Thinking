{
  "nbformat": 4,
  "nbformat_minor": 0,
  "metadata": {
    "colab": {
      "name": "week11.ipynb",
      "provenance": [],
      "authorship_tag": "ABX9TyPJF8TXs2MwRx3fvJ3zLERD",
      "include_colab_link": true
    },
    "kernelspec": {
      "name": "python3",
      "display_name": "Python 3"
    }
  },
  "cells": [
    {
      "cell_type": "markdown",
      "metadata": {
        "id": "view-in-github",
        "colab_type": "text"
      },
      "source": [
        "<a href=\"https://colab.research.google.com/github/greta419/Computational-Thinking/blob/master/week11.ipynb\" target=\"_parent\"><img src=\"https://colab.research.google.com/assets/colab-badge.svg\" alt=\"Open In Colab\"/></a>"
      ]
    },
    {
      "cell_type": "markdown",
      "metadata": {
        "id": "yMQbXdddapSg"
      },
      "source": [
        "分組"
      ]
    },
    {
      "cell_type": "code",
      "metadata": {
        "colab": {
          "base_uri": "https://localhost:8080/"
        },
        "id": "d0lm_cKyZixA",
        "outputId": "f278c1bc-4d88-4b7e-d701-364d315456a4"
      },
      "source": [
        "# 商數餘數\n",
        "## input\n",
        "seat = int(input(\"Enter a seat number?\"))\n",
        "## process\n",
        "group = (seat - 1) // 5 + 1\n",
        "## output\n",
        "print(\"group is\",group)"
      ],
      "execution_count": 4,
      "outputs": [
        {
          "output_type": "stream",
          "text": [
            "Enter a seat number?19\n",
            "group is 4\n"
          ],
          "name": "stdout"
        }
      ]
    },
    {
      "cell_type": "code",
      "metadata": {
        "colab": {
          "base_uri": "https://localhost:8080/"
        },
        "id": "Bi5TF0ZQdOI_",
        "outputId": "dd5accd8-8451-43ff-885c-9e5c3f99fcd3"
      },
      "source": [
        "# 四捨五入 無條件進位\n",
        "## Input\n",
        "seat = int(input(\"enter a saet number?\"))\n",
        "## process\n",
        "import math\n",
        "group = math.ceil(seat/5)\n",
        "## output\n",
        "print(\"group is\",group)"
      ],
      "execution_count": 7,
      "outputs": [
        {
          "output_type": "stream",
          "text": [
            "enter a saet number?40\n",
            "group is 8\n"
          ],
          "name": "stdout"
        }
      ]
    },
    {
      "cell_type": "code",
      "metadata": {
        "colab": {
          "base_uri": "https://localhost:8080/"
        },
        "id": "ZqwYgh4GesPm",
        "outputId": "5d4c6764-da0f-4294-ab69-ba11888183ef"
      },
      "source": [
        "# 看餘數，用條件句\n",
        "number = int(input(\"enter a number?\"))\n",
        "if number%5==0:\n",
        "  print(\"group is \",number//5)\n",
        "else:\n",
        "  print(\"group is \",number//5 +1)  \n"
      ],
      "execution_count": 8,
      "outputs": [
        {
          "output_type": "stream",
          "text": [
            "enter a number?40\n",
            "group is  8\n"
          ],
          "name": "stdout"
        }
      ]
    }
  ]
}