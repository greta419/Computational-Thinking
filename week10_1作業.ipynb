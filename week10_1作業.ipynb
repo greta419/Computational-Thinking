{
  "nbformat": 4,
  "nbformat_minor": 0,
  "metadata": {
    "colab": {
      "name": "week10-1作業.ipynb",
      "provenance": [],
      "collapsed_sections": [],
      "authorship_tag": "ABX9TyPBXqrK2kiOK8ecJ6rJOoZ9",
      "include_colab_link": true
    },
    "kernelspec": {
      "name": "python3",
      "display_name": "Python 3"
    }
  },
  "cells": [
    {
      "cell_type": "markdown",
      "metadata": {
        "id": "view-in-github",
        "colab_type": "text"
      },
      "source": [
        "<a href=\"https://colab.research.google.com/github/greta419/Computational-Thinking/blob/master/week10_1%E4%BD%9C%E6%A5%AD.ipynb\" target=\"_parent\"><img src=\"https://colab.research.google.com/assets/colab-badge.svg\" alt=\"Open In Colab\"/></a>"
      ]
    },
    {
      "cell_type": "code",
      "metadata": {
        "colab": {
          "base_uri": "https://localhost:8080/"
        },
        "id": "adZGhB97lmtL",
        "outputId": "1edc8ef2-aa05-4021-9553-566334065344"
      },
      "source": [
        "#班上40人，五人一組\n",
        "\n",
        "##看餘數用條件句\n",
        "number=int(input(\"enter a number\"))\n",
        "if number%5==0:\n",
        "  print(\"group is \",number//5)\n",
        "else:\n",
        "  print(\"group is \",number//5 +1)\n",
        "\n",
        "##四捨五入無條件進位\n",
        "seat = int(input(\"enter a saet number?\"))\n",
        "## process\n",
        "import math\n",
        "group = math.ceil(seat/5)\n",
        "## output\n",
        "print(\"group is\",group)\n"
      ],
      "execution_count": 8,
      "outputs": [
        {
          "output_type": "stream",
          "text": [
            "enter a number23\n",
            "group is  5\n",
            "enter a saet number?23\n",
            "group is 5\n"
          ],
          "name": "stdout"
        }
      ]
    },
    {
      "cell_type": "code",
      "metadata": {
        "id": "lajtZwb34el0"
      },
      "source": [
        ""
      ],
      "execution_count": null,
      "outputs": []
    }
  ]
}