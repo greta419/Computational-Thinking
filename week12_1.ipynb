{
  "nbformat": 4,
  "nbformat_minor": 0,
  "metadata": {
    "colab": {
      "name": "week12-1.ipynb",
      "provenance": [],
      "collapsed_sections": [],
      "authorship_tag": "ABX9TyMNethn3f+Wo7TM9+lqarju",
      "include_colab_link": true
    },
    "kernelspec": {
      "name": "python3",
      "display_name": "Python 3"
    }
  },
  "cells": [
    {
      "cell_type": "markdown",
      "metadata": {
        "id": "view-in-github",
        "colab_type": "text"
      },
      "source": [
        "<a href=\"https://colab.research.google.com/github/greta419/Computational-Thinking/blob/master/week12_1.ipynb\" target=\"_parent\"><img src=\"https://colab.research.google.com/assets/colab-badge.svg\" alt=\"Open In Colab\"/></a>"
      ]
    },
    {
      "cell_type": "markdown",
      "metadata": {
        "id": "T5S4tp2fc9Nt"
      },
      "source": [
        "1購物清單\n",
        "串列喜愛的五樣東西，當成購物清單"
      ]
    },
    {
      "cell_type": "code",
      "metadata": {
        "colab": {
          "base_uri": "https://localhost:8080/"
        },
        "id": "YiprHO8MdRuq",
        "outputId": "77147f40-9fd3-4e48-c39a-d158d433892a"
      },
      "source": [
        "shopping_list=[\"義大利麵\",\"皮蛋\",\"西瓜\",\"花椰菜\",\"蛋糕\"]\n",
        "print(shopping_list)"
      ],
      "execution_count": null,
      "outputs": [
        {
          "output_type": "stream",
          "text": [
            "['義大利麵', '皮蛋', '西瓜', '花椰菜', '蛋糕']\n"
          ],
          "name": "stdout"
        }
      ]
    },
    {
      "cell_type": "code",
      "metadata": {
        "colab": {
          "base_uri": "https://localhost:8080/"
        },
        "id": "kHiIvMKeh2tR",
        "outputId": "edbd612d-65cc-4e08-ffaf-511fb73d10f6"
      },
      "source": [
        "list5=[\"義大利麵\",\"皮蛋\",\"西瓜\",\"花椰菜\",\"蛋糕\"]\n",
        "print(list5)"
      ],
      "execution_count": null,
      "outputs": [
        {
          "output_type": "stream",
          "text": [
            "['義大利麵', '皮蛋', '西瓜', '花椰菜', '蛋糕']\n"
          ],
          "name": "stdout"
        }
      ]
    },
    {
      "cell_type": "code",
      "metadata": {
        "colab": {
          "base_uri": "https://localhost:8080/"
        },
        "id": "-S2HyEm4iSla",
        "outputId": "fd18248b-7a0c-48e7-a6ff-10ac8126e7ce"
      },
      "source": [
        "print(list5[0])"
      ],
      "execution_count": null,
      "outputs": [
        {
          "output_type": "stream",
          "text": [
            "義大利麵\n"
          ],
          "name": "stdout"
        }
      ]
    },
    {
      "cell_type": "code",
      "metadata": {
        "colab": {
          "base_uri": "https://localhost:8080/"
        },
        "id": "nyNWn4DIiimC",
        "outputId": "5ac5f1bd-97cd-4eb0-bdd9-88566d07dc90"
      },
      "source": [
        "list5[1]=\"牛肉\"\n",
        "print(list5)"
      ],
      "execution_count": null,
      "outputs": [
        {
          "output_type": "stream",
          "text": [
            "['義大利麵', '牛肉', '西瓜', '花椰菜', '蛋糕']\n"
          ],
          "name": "stdout"
        }
      ]
    },
    {
      "cell_type": "code",
      "metadata": {
        "colab": {
          "base_uri": "https://localhost:8080/"
        },
        "id": "G_Cw6HWsi_ud",
        "outputId": "f2ee5637-104b-462c-fdc3-7ac488d8ac21"
      },
      "source": [
        "print(list5[1:3])"
      ],
      "execution_count": null,
      "outputs": [
        {
          "output_type": "stream",
          "text": [
            "['牛肉', '西瓜']\n"
          ],
          "name": "stdout"
        }
      ]
    },
    {
      "cell_type": "markdown",
      "metadata": {
        "id": "qEG6xTUPjusm"
      },
      "source": [
        "NBA冠軍球隊六筆資訊"
      ]
    },
    {
      "cell_type": "code",
      "metadata": {
        "colab": {
          "base_uri": "https://localhost:8080/"
        },
        "id": "FFthYgb3j4nJ",
        "outputId": "09c8d897-d22f-4471-f1f5-b41aba99bd8d"
      },
      "source": [
        "season=\"2018-2019\"\n",
        "team=\"多倫多暴龍\"\n",
        "coach=\"Nick Nurse\"\n",
        "records=[100,80]\n",
        "starting=[\"OG Anunoby\",\"Alfonzo McKinnie\",\"Malcolm Miller\",\"Pascal Siakam\",\"Delon Wright\"]\n",
        "champion=True\n",
        "#變數BEST_NBA 賦值串列\n",
        "best_NBA=list((season,team,coach,records,starting,champion))\n",
        "#typeerror:list expeced at most 1 arguments,got 6 (要有兩個小括號)\n",
        "print(best_NBA)\n",
        "['2018-2019','多倫多暴龍','Nick Nurse',[100,80],[\"OG Anunoby\",\"Alfonzo McKinnie\",\"Malcolm Miller\",\"Pascal Siakam\",\"Delon Wright\"],True]\n",
        "print(type(best_NBA))\n",
        "#indexing 索引\n",
        "print(best_NBA[-2])\n",
        "#slicing 切片\n",
        "print(best_NBA[1:4])"
      ],
      "execution_count": 4,
      "outputs": [
        {
          "output_type": "stream",
          "text": [
            "['2018-2019', '多倫多暴龍', 'Nick Nurse', [100, 80], ['OG Anunoby', 'Alfonzo McKinnie', 'Malcolm Miller', 'Pascal Siakam', 'Delon Wright'], True]\n",
            "<class 'list'>\n",
            "['OG Anunoby', 'Alfonzo McKinnie', 'Malcolm Miller', 'Pascal Siakam', 'Delon Wright']\n",
            "['多倫多暴龍', 'Nick Nurse', [100, 80]]\n"
          ],
          "name": "stdout"
        }
      ]
    },
    {
      "cell_type": "code",
      "metadata": {
        "id": "grfb4NXntOm2"
      },
      "source": [
        ""
      ],
      "execution_count": null,
      "outputs": []
    }
  ]
}