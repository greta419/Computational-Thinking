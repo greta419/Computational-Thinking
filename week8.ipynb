{
  "nbformat": 4,
  "nbformat_minor": 0,
  "metadata": {
    "colab": {
      "name": "week8.ipynb",
      "provenance": [],
      "collapsed_sections": [],
      "authorship_tag": "ABX9TyOl6LCDnRq+HP0k7wILQke5",
      "include_colab_link": true
    },
    "kernelspec": {
      "display_name": "Python 3",
      "name": "python3"
    }
  },
  "cells": [
    {
      "cell_type": "markdown",
      "metadata": {
        "id": "view-in-github",
        "colab_type": "text"
      },
      "source": [
        "<a href=\"https://colab.research.google.com/github/greta419/Computational-Thinking/blob/master/week8.ipynb\" target=\"_parent\"><img src=\"https://colab.research.google.com/assets/colab-badge.svg\" alt=\"Open In Colab\"/></a>"
      ]
    },
    {
      "cell_type": "code",
      "metadata": {
        "id": "wYxvzEyZ4qXW",
        "outputId": "e7d1f1f3-4f22-4ab6-cdd3-d3a15063709a",
        "colab": {
          "base_uri": "https://localhost:8080/"
        }
      },
      "source": [
        "cloth=int(input('entry the quantity of clothes'))\n",
        "trousers=int(input('entry the quantity of trousers'))\n",
        "vest=int(input('entry the quantity of trousers'))\n",
        "\n",
        "total=cloth*300+trousers*350+vest*400\n",
        "\n",
        "print('訂購服裝的總金額為',total)"
      ],
      "execution_count": 17,
      "outputs": [
        {
          "output_type": "stream",
          "text": [
            "entry the quantity of clothes20\n",
            "entry the quantity of trousers20\n",
            "entry the quantity of trousers5\n",
            "訂購服裝的總金額為 15000\n"
          ],
          "name": "stdout"
        }
      ]
    },
    {
      "cell_type": "code",
      "metadata": {
        "id": "IPjjqTPozkYp",
        "outputId": "5745693b-0a5b-4e73-8d41-1c66f0bfbdf9",
        "colab": {
          "base_uri": "https://localhost:8080/"
        }
      },
      "source": [
        "cans=int(input('entry the quantity of cans'))\n",
        "\n",
        "total=(cans//12)*200+(cans%12)*20\n",
        "\n",
        "print('need to spend',total)"
      ],
      "execution_count": 18,
      "outputs": [
        {
          "output_type": "stream",
          "text": [
            "entry the quantity of cans5\n",
            "need to spend 100\n"
          ],
          "name": "stdout"
        }
      ]
    },
    {
      "cell_type": "code",
      "metadata": {
        "id": "PqE6sC1v9UhK",
        "outputId": "2ef909b2-18b6-4402-a370-18834f9caf30",
        "colab": {
          "base_uri": "https://localhost:8080/"
        }
      },
      "source": [
        "fir = int(input('entry the first grades'))\n",
        "sec = int(input('entry the second grades'))\n",
        "final = int(input('entry the final grades'))\n",
        "\n",
        "sum=fir+sec+final\n",
        "avg=sum/3\n",
        "\n",
        "print('總分為',sum,'平均為',avg)\n"
      ],
      "execution_count": 20,
      "outputs": [
        {
          "output_type": "stream",
          "text": [
            "entry the first grades90\n",
            "entry the second grades85\n",
            "entry the final grades65\n",
            "總分為 240 平均為 80.0\n"
          ],
          "name": "stdout"
        }
      ]
    }
  ]
}